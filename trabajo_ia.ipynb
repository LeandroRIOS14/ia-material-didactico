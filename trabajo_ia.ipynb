{
 "cells": [
  {
   "cell_type": "markdown",
   "id": "1bcdf260",
   "metadata": {},
   "source": [
    "# IA: Entretejiendo Imaginación y Algoritmos\n",
    "### Generación de material didáctico en ciencias naturales con IA\n",
    "Este notebook muestra cómo usar prompts de texto-a-texto y texto-a-imagen para crear material educativo.\n"
   ]
  },
  {
   "cell_type": "markdown",
   "id": "1279db99",
   "metadata": {},
   "source": [
    "## Prompt de texto\n",
    "**Instrucción:** Explica la fotosíntesis en 100 palabras, usando un lenguaje para estudiantes de 14 años.\n"
   ]
  },
  {
   "cell_type": "code",
   "execution_count": null,
   "id": "519fab5f",
   "metadata": {},
   "outputs": [],
   "source": [
    "# Aquí iría la llamada a la API de OpenAI si tuvieras la clave configurada.\n",
    "# Por ejemplo:\n",
    "# response = openai.Completion.create(...)\n",
    "# print(response['choices'][0]['text'])\n",
    "\n",
    "print('La fotosíntesis es el proceso por el cual las plantas fabrican su propio alimento...')"
   ]
  },
  {
   "cell_type": "markdown",
   "id": "40cb1391",
   "metadata": {},
   "source": [
    "## Prompt de imagen\n",
    "**Instrucción:** Generar un esquema educativo de la fotosíntesis: planta con hojas, flechas indicando 'luz', 'agua', 'dióxido de carbono' entrando y 'azúcares' y 'oxígeno' saliendo. Estilo educativo, etiquetas en español.\n"
   ]
  },
  {
   "cell_type": "code",
   "execution_count": null,
   "id": "9d480cfc",
   "metadata": {},
   "outputs": [],
   "source": [
    "# Aquí podrías integrar una API como Stable Diffusion o NightCafe.\n",
    "# En este ejemplo simplemente mostramos cómo se documentaría.\n",
    "from IPython.display import Image\n",
    "Image(filename='images/fotosintesis.png')"
   ]
  },
  {
   "cell_type": "markdown",
   "id": "aa5d986c",
   "metadata": {},
   "source": [
    "## Conclusión\n",
    "La inteligencia artificial permite generar material didáctico rápido y personalizado. Con prompts adecuados, se logran explicaciones claras y esquemas visuales útiles para la enseñanza.\n"
   ]
  }
 ],
 "metadata": {},
 "nbformat": 4,
 "nbformat_minor": 5
}
